{
 "cells": [
  {
   "cell_type": "code",
   "execution_count": 1,
   "metadata": {},
   "outputs": [],
   "source": [
    "import datetime\n",
    "import logging\n",
    "import os\n",
    "import psycopg2\n",
    "from subprocess import call\n",
    "\n",
    "import numpy as np\n",
    "import pandas as pd"
   ]
  },
  {
   "cell_type": "code",
   "execution_count": 2,
   "metadata": {},
   "outputs": [],
   "source": [
    "Employee = pd.read_csv('Employee.csv')"
   ]
  },
  {
   "cell_type": "code",
   "execution_count": 3,
   "metadata": {},
   "outputs": [],
   "source": [
    "Industry = pd.read_csv('Industry.csv')"
   ]
  },
  {
   "cell_type": "markdown",
   "metadata": {},
   "source": [
    "## Запрос 1\n",
    "\n",
    "Вывести список жанров книг\n",
    "эта инфармация поможет нам ариентироваться в данных которые мы будем получать в дальнейших запроса\n"
   ]
  },
  {
   "cell_type": "markdown",
   "metadata": {},
   "source": [
    "#### SQL release\n",
    "SELECT * FROM library"
   ]
  },
  {
   "cell_type": "markdown",
   "metadata": {},
   "source": [
    "#### Pandas release"
   ]
  },
  {
   "cell_type": "code",
   "execution_count": 4,
   "metadata": {},
   "outputs": [
    {
     "data": {
      "text/plain": [
       "array(['science fiction', 'non fiction', 'historical novel', 'adventures',\n",
       "       'romantic', 'horror', 'drama ', 'documental ', 'detective'],\n",
       "      dtype=object)"
      ]
     },
     "execution_count": 4,
     "metadata": {},
     "output_type": "execute_result"
    }
   ],
   "source": [
    "library_list = pd.read_csv('library.csv')\n",
    "library_list['genre'].unique()"
   ]
  },
  {
   "cell_type": "markdown",
   "metadata": {},
   "source": [
    "## Запрос 2\n",
    "\n",
    "Выполняем первый аналитический запрос:\n",
    "Вывести три самых популярных жанра литературы (genre) среди выборки из 251 читателя (разного возраста, пола, образование, сферы деятельности) данная выборка реперезентативна она, в ней представлен широкий круг респондентов\n",
    "Полученные данные помогут понять какие жанры литературы сейчас самые читаемые, данная нформация в дальнейшем поможет фрагментировать рынок при построениии бизнесс моделей издательств"
   ]
  },
  {
   "cell_type": "markdown",
   "metadata": {},
   "source": [
    "#### SQL release\n",
    "\n",
    "WITH tmp_tab as (SELECT * FROM library JOIN library_card ON library.book_id=library_card.book_genre_id) SELECT genre, COUNT(book_genre_id) as top_genre FROM tmp_tab GROUP BY genre ORDER BY top_genre DESC LIMIT 3;"
   ]
  },
  {
   "cell_type": "markdown",
   "metadata": {},
   "source": [
    "#### Python release\n",
    "\n"
   ]
  },
  {
   "cell_type": "code",
   "execution_count": 5,
   "metadata": {},
   "outputs": [],
   "source": [
    "# используем файлы library.csv и library_card.csv\n",
    "\n",
    "library = pd.read_csv('library.csv')\n",
    "library_card = pd.read_csv('library_card.csv')"
   ]
  },
  {
   "cell_type": "markdown",
   "metadata": {},
   "source": [
    "делаем join двух таблиц library и library_card с помощью groupby() группируем данные и считаем сколько книг приходится на каждый жанр книг с помощью оператора count()"
   ]
  },
  {
   "cell_type": "code",
   "execution_count": 7,
   "metadata": {},
   "outputs": [
    {
     "data": {
      "text/html": [
       "<div>\n",
       "<style scoped>\n",
       "    .dataframe tbody tr th:only-of-type {\n",
       "        vertical-align: middle;\n",
       "    }\n",
       "\n",
       "    .dataframe tbody tr th {\n",
       "        vertical-align: top;\n",
       "    }\n",
       "\n",
       "    .dataframe thead th {\n",
       "        text-align: right;\n",
       "    }\n",
       "</style>\n",
       "<table border=\"1\" class=\"dataframe\">\n",
       "  <thead>\n",
       "    <tr style=\"text-align: right;\">\n",
       "      <th></th>\n",
       "      <th>book_genre_id</th>\n",
       "    </tr>\n",
       "    <tr>\n",
       "      <th>genre</th>\n",
       "      <th></th>\n",
       "    </tr>\n",
       "  </thead>\n",
       "  <tbody>\n",
       "    <tr>\n",
       "      <th>romantic</th>\n",
       "      <td>39</td>\n",
       "    </tr>\n",
       "    <tr>\n",
       "      <th>adventures</th>\n",
       "      <td>36</td>\n",
       "    </tr>\n",
       "    <tr>\n",
       "      <th>non fiction</th>\n",
       "      <td>31</td>\n",
       "    </tr>\n",
       "  </tbody>\n",
       "</table>\n",
       "</div>"
      ],
      "text/plain": [
       "             book_genre_id\n",
       "genre                     \n",
       "romantic                39\n",
       "adventures              36\n",
       "non fiction             31"
      ]
     },
     "execution_count": 7,
     "metadata": {},
     "output_type": "execute_result"
    }
   ],
   "source": [
    "df_2 = library.merge(library_card, left_on='book_id', right_on='book_genre_id', how='outer')\\\n",
    "                                                                                        .groupby('genre').count()\n",
    "df_2[['book_genre_id']].sort_values(by = ['book_genre_id'],  ascending = False )[:3]"
   ]
  },
  {
   "cell_type": "markdown",
   "metadata": {},
   "source": [
    "## Запрос 3\n",
    "Выполняем второй аналитический запрос: Вывести топ-3 жанра которые читают женщины старше 50 лет\n",
    "Полученные данные помогут понять какие жанры литературы популярны у женьщин старшего возраста"
   ]
  },
  {
   "cell_type": "markdown",
   "metadata": {},
   "source": [
    "#### SQL release\n",
    "WITH tmp_tab as \n",
    "            (SELECT * FROM library JOIN books_after_50 ON library.book_id=books_after_50.book_genre_id) \n",
    "            SELECT DISTINCT genre FROM tmp_tab WHERE age>50 and gender LIKE '%Female' LIMIT 3;"
   ]
  },
  {
   "cell_type": "markdown",
   "metadata": {},
   "source": [
    "#### Python release"
   ]
  },
  {
   "cell_type": "code",
   "execution_count": 8,
   "metadata": {},
   "outputs": [],
   "source": [
    "#используем данные из таблиц\n",
    "\n",
    "library = pd.read_csv('library.csv')\n",
    "Employee = pd.read_csv('Employee.csv')"
   ]
  },
  {
   "cell_type": "code",
   "execution_count": 13,
   "metadata": {},
   "outputs": [
    {
     "data": {
      "text/plain": [
       "genre\n",
       "romantic      30\n",
       "adventures    20\n",
       "horror        18\n",
       "Name: book_genre_id, dtype: int64"
      ]
     },
     "execution_count": 13,
     "metadata": {},
     "output_type": "execute_result"
    }
   ],
   "source": [
    "books_after_50 = library_card.merge(Employee, left_on='nameid', right_on='name_id', how='outer')\n",
    "\n",
    "\n",
    "df_4 = library.merge(books_after_50, left_on='book_id', \\\n",
    "                     right_on='book_genre_id', how='outer').sort_values(by = ['book_genre_id'])\n",
    "\n",
    "fd = df_4[(df_4['age']>=50) & (df_4['gender'] == 'Female')]\\\n",
    "                                .groupby('genre').sum().sort_values(by = ['book_genre_id'], ascending = False )\n",
    "    \n",
    "    \n",
    "fd['book_genre_id'][:3]"
   ]
  },
  {
   "cell_type": "markdown",
   "metadata": {},
   "source": [
    "## Запрос 4\n",
    "Определяем минимальный возраст респондента (среди респондентов нашего опроса из запроса 1)\n",
    "\n"
   ]
  },
  {
   "cell_type": "markdown",
   "metadata": {},
   "source": [
    "#### SQL release\n",
    "\n",
    "SELECT Min(age) as min_age FROM employee;"
   ]
  },
  {
   "cell_type": "markdown",
   "metadata": {},
   "source": [
    "#### Python release\n",
    "\n",
    "для поиска минимального возраста используем оператор min()"
   ]
  },
  {
   "cell_type": "code",
   "execution_count": 10,
   "metadata": {},
   "outputs": [
    {
     "data": {
      "text/plain": [
       "17"
      ]
     },
     "execution_count": 10,
     "metadata": {},
     "output_type": "execute_result"
    }
   ],
   "source": [
    "# используем таблицу employee\n",
    "stuff_age = pd.read_csv('Employee.csv')\n",
    "min(stuff_age['age']) "
   ]
  },
  {
   "cell_type": "markdown",
   "metadata": {},
   "source": [
    "## Запрос 5\n",
    "Выполняем третий аналитический запрос: Вывести средний значения продолжительности чтения книг в зависимости от жанра\n",
    "Эти данные помогут издателям понять сколько времени читатели разных жанров тратят времени на чтение книг, данную информацию можно использовать при принятии решения какое количиство страниц оптимально для книг представленных в каждом жанре"
   ]
  },
  {
   "cell_type": "code",
   "execution_count": 18,
   "metadata": {},
   "outputs": [
    {
     "data": {
      "text/html": [
       "<div>\n",
       "<style scoped>\n",
       "    .dataframe tbody tr th:only-of-type {\n",
       "        vertical-align: middle;\n",
       "    }\n",
       "\n",
       "    .dataframe tbody tr th {\n",
       "        vertical-align: top;\n",
       "    }\n",
       "\n",
       "    .dataframe thead th {\n",
       "        text-align: right;\n",
       "    }\n",
       "</style>\n",
       "<table border=\"1\" class=\"dataframe\">\n",
       "  <thead>\n",
       "    <tr style=\"text-align: right;\">\n",
       "      <th></th>\n",
       "      <th>reading_time_days</th>\n",
       "    </tr>\n",
       "    <tr>\n",
       "      <th>genre</th>\n",
       "      <th></th>\n",
       "    </tr>\n",
       "  </thead>\n",
       "  <tbody>\n",
       "    <tr>\n",
       "      <th>historical novel</th>\n",
       "      <td>28.680000</td>\n",
       "    </tr>\n",
       "    <tr>\n",
       "      <th>drama</th>\n",
       "      <td>28.500000</td>\n",
       "    </tr>\n",
       "    <tr>\n",
       "      <th>adventures</th>\n",
       "      <td>27.166667</td>\n",
       "    </tr>\n",
       "    <tr>\n",
       "      <th>romantic</th>\n",
       "      <td>25.769231</td>\n",
       "    </tr>\n",
       "    <tr>\n",
       "      <th>horror</th>\n",
       "      <td>22.520000</td>\n",
       "    </tr>\n",
       "    <tr>\n",
       "      <th>science fiction</th>\n",
       "      <td>21.521739</td>\n",
       "    </tr>\n",
       "    <tr>\n",
       "      <th>detective</th>\n",
       "      <td>21.115385</td>\n",
       "    </tr>\n",
       "    <tr>\n",
       "      <th>non fiction</th>\n",
       "      <td>17.838710</td>\n",
       "    </tr>\n",
       "    <tr>\n",
       "      <th>documental</th>\n",
       "      <td>16.500000</td>\n",
       "    </tr>\n",
       "  </tbody>\n",
       "</table>\n",
       "</div>"
      ],
      "text/plain": [
       "                  reading_time_days\n",
       "genre                              \n",
       "historical novel          28.680000\n",
       "drama                     28.500000\n",
       "adventures                27.166667\n",
       "romantic                  25.769231\n",
       "horror                    22.520000\n",
       "science fiction           21.521739\n",
       "detective                 21.115385\n",
       "non fiction               17.838710\n",
       "documental                16.500000"
      ]
     },
     "execution_count": 18,
     "metadata": {},
     "output_type": "execute_result"
    }
   ],
   "source": [
    "df_2 = library.merge(library_card, left_on='book_id', right_on='book_genre_id', how='outer')\\\n",
    "                                                                                        .groupby('genre').mean()\n",
    "df_2[['reading_time_days']].sort_values(by = ['reading_time_days'],  ascending = False )"
   ]
  },
  {
   "cell_type": "code",
   "execution_count": null,
   "metadata": {},
   "outputs": [],
   "source": []
  }
 ],
 "metadata": {
  "kernelspec": {
   "display_name": "Python 3",
   "language": "python",
   "name": "python3"
  },
  "language_info": {
   "codemirror_mode": {
    "name": "ipython",
    "version": 3
   },
   "file_extension": ".py",
   "mimetype": "text/x-python",
   "name": "python",
   "nbconvert_exporter": "python",
   "pygments_lexer": "ipython3",
   "version": "3.6.4"
  }
 },
 "nbformat": 4,
 "nbformat_minor": 2
}
